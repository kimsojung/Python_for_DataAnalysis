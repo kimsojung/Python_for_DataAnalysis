{
 "cells": [
  {
   "cell_type": "markdown",
   "metadata": {},
   "source": [
    "<div class=\"page-content tex2jax_process\">\n",
    "    <p>모듈이란 함수나 변수 또는 클래스 들을 모아 놓은 파일이다. 모듈은 다른 파이썬 프로그램에서 불러와 사용할수 있게끔 만들어진 파이썬 파일이라고도 할 수 있다. 우리는 파이썬으로 프로그래밍을 할 때 굉장히 많은 모듈을 사용한다. 다른 사람들이 이미 만들어 놓은 모듈을 사용할 수도 있고 우리가 직접 만들어서 사용할 수도 있다. 여기서는 모듈을 어떻게 만들고 사용할 수 있는지 알아보겠다.</p>\n",
    "<div class=\"toc\">"
   ]
  },
  {
   "cell_type": "markdown",
   "metadata": {},
   "source": [
    "<big>import 모듈이름</big>"
   ]
  },
  {
   "cell_type": "markdown",
   "metadata": {},
   "source": [
    "# Import Libraries "
   ]
  },
  {
   "cell_type": "code",
   "execution_count": 1,
   "metadata": {},
   "outputs": [
    {
     "data": {
      "text/plain": [
       "5.0"
      ]
     },
     "execution_count": 1,
     "metadata": {},
     "output_type": "execute_result"
    }
   ],
   "source": [
    "# math moudle\n",
    "import math\n",
    "math.sqrt(25)"
   ]
  },
  {
   "cell_type": "code",
   "execution_count": 2,
   "metadata": {},
   "outputs": [
    {
     "data": {
      "text/plain": [
       "5.0"
      ]
     },
     "execution_count": 2,
     "metadata": {},
     "output_type": "execute_result"
    }
   ],
   "source": [
    "#import a function\n",
    "from math import sqrt\n",
    "sqrt(25)"
   ]
  },
  {
   "cell_type": "code",
   "execution_count": 5,
   "metadata": {},
   "outputs": [
    {
     "name": "stdout",
     "output_type": "stream",
     "text": [
      "20.085536923187668 2.302585092994046 1.0\n"
     ]
    }
   ],
   "source": [
    "# import multiple function at once\n",
    "from math import exp, log, log10\n",
    "x1=exp(3); x2=log(10); x3=log10(10)\n",
    "print(x1, x2,x3)"
   ]
  },
  {
   "cell_type": "code",
   "execution_count": 15,
   "metadata": {
    "collapsed": true
   },
   "outputs": [],
   "source": [
    "# define as alias \n",
    "import numpy as np\n",
    "\n",
    "# show all functions in math module\n",
    "content =dir(math)"
   ]
  },
  {
   "cell_type": "code",
   "execution_count": 17,
   "metadata": {},
   "outputs": [
    {
     "name": "stdout",
     "output_type": "stream",
     "text": [
      "['__doc__', '__loader__', '__name__', '__package__', '__spec__', 'acos', 'acosh', 'asin', 'asinh', 'atan', 'atan2', 'atanh', 'ceil', 'copysign', 'cos', 'cosh', 'degrees', 'e', 'erf', 'erfc', 'exp', 'expm1', 'fabs', 'factorial', 'floor', 'fmod', 'frexp', 'fsum', 'gamma', 'gcd', 'hypot', 'inf', 'isclose', 'isfinite', 'isinf', 'isnan', 'ldexp', 'lgamma', 'log', 'log10', 'log1p', 'log2', 'modf', 'nan', 'pi', 'pow', 'radians', 'sin', 'sinh', 'sqrt', 'tan', 'tanh', 'tau', 'trunc']\n"
     ]
    }
   ],
   "source": [
    "print(content)"
   ]
  },
  {
   "cell_type": "markdown",
   "metadata": {},
   "source": [
    "# 들여쓰기"
   ]
  },
  {
   "cell_type": "code",
   "execution_count": 19,
   "metadata": {},
   "outputs": [
    {
     "name": "stdout",
     "output_type": "stream",
     "text": [
      "Hello, World\n",
      "Hello, World\n",
      "Hello, World\n",
      "Hello, World\n",
      "Hello, World\n",
      "Hello, World\n",
      "Hello, World\n",
      "Hello, World\n",
      "Hello, World\n",
      "Hello, World\n"
     ]
    }
   ],
   "source": [
    "for i in range(10):\n",
    "    print('Hello, World')"
   ]
  },
  {
   "cell_type": "markdown",
   "metadata": {},
   "source": [
    "#  데이터 타입(Data Type)"
   ]
  },
  {
   "cell_type": "markdown",
   "metadata": {},
   "source": [
    "<br>파이썬에서는 2 나 \"Hello, World\" 같은 각각의 값을 객체(object)라 한다.<br /> 객체에는 독자성(identity), 데이터 타입, \n",
    "값 등의 세가지 성격(properites)있다.\n",
    "\n"
   ]
  },
  {
   "cell_type": "code",
   "execution_count": 40,
   "metadata": {},
   "outputs": [
    {
     "data": {
      "text/plain": [
       "'Hello, World'"
      ]
     },
     "execution_count": 40,
     "metadata": {},
     "output_type": "execute_result"
    }
   ],
   "source": [
    "#데이터 타입은 str이고 값이 \"Hello,World\"인 객체(object)이다. \n",
    "\"Hello, World\"\n",
    "\n"
   ]
  },
  {
   "cell_type": "code",
   "execution_count": 41,
   "metadata": {},
   "outputs": [
    {
     "data": {
      "text/plain": [
       "str"
      ]
     },
     "execution_count": 41,
     "metadata": {},
     "output_type": "execute_result"
    }
   ],
   "source": [
    "#데이터 카테고리: 문자열\n",
    "type(\"Hello, World\")\n"
   ]
  },
  {
   "cell_type": "code",
   "execution_count": 42,
   "metadata": {},
   "outputs": [
    {
     "data": {
      "text/plain": [
       "127509744"
      ]
     },
     "execution_count": 42,
     "metadata": {},
     "output_type": "execute_result"
    }
   ],
   "source": [
    "#메모리 저장 위치\n",
    "id(\"Hello, World\")\n"
   ]
  },
  {
   "cell_type": "markdown",
   "metadata": {},
   "source": [
    "<big> 숫자도 객체이며 정수(integer), 소수점이 있는 데이터(float) </big>\n"
   ]
  },
  {
   "cell_type": "code",
   "execution_count": 43,
   "metadata": {},
   "outputs": [
    {
     "data": {
      "text/plain": [
       "4.5"
      ]
     },
     "execution_count": 43,
     "metadata": {},
     "output_type": "execute_result"
    }
   ],
   "source": [
    "2.2 + 2.3"
   ]
  },
  {
   "cell_type": "code",
   "execution_count": 44,
   "metadata": {},
   "outputs": [
    {
     "data": {
      "text/plain": [
       "float"
      ]
     },
     "execution_count": 44,
     "metadata": {},
     "output_type": "execute_result"
    }
   ],
   "source": [
    "type(2.2 + 2.3)"
   ]
  },
  {
   "cell_type": "markdown",
   "metadata": {},
   "source": [
    "<big> 데이터 타입 불리언(boolean)</big>"
   ]
  },
  {
   "cell_type": "code",
   "execution_count": 45,
   "metadata": {},
   "outputs": [
    {
     "data": {
      "text/plain": [
       "bool"
      ]
     },
     "execution_count": 45,
     "metadata": {},
     "output_type": "execute_result"
    }
   ],
   "source": [
    "type(True)"
   ]
  },
  {
   "cell_type": "markdown",
   "metadata": {},
   "source": [
    "<big>변수</big>\n"
   ]
  },
  {
   "cell_type": "code",
   "execution_count": 46,
   "metadata": {
    "collapsed": true
   },
   "outputs": [],
   "source": [
    "x=100; y=200"
   ]
  },
  {
   "cell_type": "code",
   "execution_count": 47,
   "metadata": {},
   "outputs": [
    {
     "name": "stdout",
     "output_type": "stream",
     "text": [
      "100 200\n"
     ]
    }
   ],
   "source": [
    "print(x,y)"
   ]
  },
  {
   "cell_type": "code",
   "execution_count": 48,
   "metadata": {
    "collapsed": true
   },
   "outputs": [],
   "source": [
    "hi=\"Hello, World\""
   ]
  },
  {
   "cell_type": "code",
   "execution_count": 49,
   "metadata": {
    "collapsed": true
   },
   "outputs": [],
   "source": [
    "my_float=2.2 ; my_boolean=True"
   ]
  },
  {
   "cell_type": "markdown",
   "metadata": {},
   "source": [
    "<big>변수이름을 만드는 규칙</big>\n",
    " 1. 변수이름에 공백을 사용 할 수 없다.\n",
    " 2. 숫자나 특수문자로 시작 할 수 없다.\n",
    " 3. 예약어를 사용할 수 없다"
   ]
  },
  {
   "cell_type": "code",
   "execution_count": 4,
   "metadata": {},
   "outputs": [
    {
     "data": {
      "text/plain": [
       "11"
      ]
     },
     "execution_count": 4,
     "metadata": {},
     "output_type": "execute_result"
    }
   ],
   "source": [
    "x=10\n",
    "x=x+1\n",
    "x\n"
   ]
  },
  {
   "cell_type": "code",
   "execution_count": 3,
   "metadata": {},
   "outputs": [
    {
     "data": {
      "text/plain": [
       "11"
      ]
     },
     "execution_count": 3,
     "metadata": {},
     "output_type": "execute_result"
    }
   ],
   "source": [
    "x=10\n",
    "x+=1\n",
    "x"
   ]
  },
  {
   "cell_type": "markdown",
   "metadata": {},
   "source": [
    "# 문법"
   ]
  },
  {
   "cell_type": "code",
   "execution_count": 1,
   "metadata": {},
   "outputs": [
    {
     "ename": "SyntaxError",
     "evalue": "EOL while scanning string literal (<ipython-input-1-bb69bc7fe01b>, line 2)",
     "output_type": "error",
     "traceback": [
      "\u001b[1;36m  File \u001b[1;32m\"<ipython-input-1-bb69bc7fe01b>\"\u001b[1;36m, line \u001b[1;32m2\u001b[0m\n\u001b[1;33m    my_string=\"Hello World.\u001b[0m\n\u001b[1;37m                           ^\u001b[0m\n\u001b[1;31mSyntaxError\u001b[0m\u001b[1;31m:\u001b[0m EOL while scanning string literal\n"
     ]
    }
   ],
   "source": [
    "#문법 에러\n",
    "my_string=\"Hello World."
   ]
  },
  {
   "cell_type": "code",
   "execution_count": 6,
   "metadata": {},
   "outputs": [
    {
     "ename": "ZeroDivisionError",
     "evalue": "division by zero",
     "output_type": "error",
     "traceback": [
      "\u001b[1;31m---------------------------------------------------------------------------\u001b[0m",
      "\u001b[1;31mZeroDivisionError\u001b[0m                         Traceback (most recent call last)",
      "\u001b[1;32m<ipython-input-6-e574edb36883>\u001b[0m in \u001b[0;36m<module>\u001b[1;34m()\u001b[0m\n\u001b[1;32m----> 1\u001b[1;33m \u001b[1;36m10\u001b[0m\u001b[1;33m/\u001b[0m\u001b[1;36m0\u001b[0m\u001b[1;33m\u001b[0m\u001b[0m\n\u001b[0m",
      "\u001b[1;31mZeroDivisionError\u001b[0m: division by zero"
     ]
    }
   ],
   "source": [
    "#예외에러\n",
    "10/0"
   ]
  },
  {
   "cell_type": "code",
   "execution_count": 7,
   "metadata": {},
   "outputs": [
    {
     "ename": "IndentationError",
     "evalue": "unexpected indent (<ipython-input-7-77c652fd8596>, line 4)",
     "output_type": "error",
     "traceback": [
      "\u001b[1;36m  File \u001b[1;32m\"<ipython-input-7-77c652fd8596>\"\u001b[1;36m, line \u001b[1;32m4\u001b[0m\n\u001b[1;33m    x=1\u001b[0m\n\u001b[1;37m    ^\u001b[0m\n\u001b[1;31mIndentationError\u001b[0m\u001b[1;31m:\u001b[0m unexpected indent\n"
     ]
    }
   ],
   "source": [
    "#들여쓰기 에러\n",
    "y=2\n",
    "\n",
    "      x=1"
   ]
  },
  {
   "cell_type": "code",
   "execution_count": 12,
   "metadata": {
    "collapsed": true
   },
   "outputs": [],
   "source": [
    "y=2\n",
    "\n",
    "x=1"
   ]
  },
  {
   "cell_type": "markdown",
   "metadata": {},
   "source": [
    "<h1 class=\"page-subject\">\n",
    "    파이썬 산술 연산자\n",
    "    \n",
    "        \n",
    "    \n",
    "</h1>\n",
    "\n",
    "<div class=\"page-content tex2jax_process\">\n",
    "    <h3 id=\"arithmetic-operators\">산술 연산자 (Arithmetic Operators):</h3>\n",
    "<p>a = 10, b = 20, c = 3 이라 가정한다.</p>\n",
    "<table>\n",
    "<thead>\n",
    "<tr>\n",
    "<th align=\"center\">Operator</th>\n",
    "<th align=\"center\">Description</th>\n",
    "<th align=\"center\">Example</th>\n",
    "</tr>\n",
    "</thead>\n",
    "<tbody>\n",
    "<tr>\n",
    "<td align=\"center\">+</td>\n",
    "<td align=\"center\">더하기</td>\n",
    "<td align=\"center\">a + b = 30</td>\n",
    "</tr>\n",
    "<tr>\n",
    "<td align=\"center\">-</td>\n",
    "<td align=\"center\">빼기</td>\n",
    "<td align=\"center\">a - b = -10</td>\n",
    "</tr>\n",
    "<tr>\n",
    "<td align=\"center\">*</td>\n",
    "<td align=\"center\">곱하기</td>\n",
    "<td align=\"center\">a * b = 200</td>\n",
    "</tr>\n",
    "<tr>\n",
    "<td align=\"center\">/</td>\n",
    "<td align=\"center\">나누기</td>\n",
    "<td align=\"center\">b / a = 2.0</td>\n",
    "</tr>\n",
    "<tr>\n",
    "<td align=\"center\">%</td>\n",
    "<td align=\"center\">나머지</td>\n",
    "<td align=\"center\">b % a = 0</td>\n",
    "</tr>\n",
    "<tr>\n",
    "<td align=\"center\">**</td>\n",
    "<td align=\"center\">제곱</td>\n",
    "<td align=\"center\">a ** c = 1000</td>\n",
    "</tr>\n",
    "<tr>\n",
    "<td align=\"center\">//</td>\n",
    "<td align=\"center\">몫</td>\n",
    "<td align=\"center\">a // c = 3</td>\n",
    "</tr>\n",
    "</tbody>\n",
    "</table>\n",
    "</div>\n",
    "\n",
    "<div class=\"muted text-right\" style=\"font-size: 12px;margin:10px 0;\">"
   ]
  },
  {
   "cell_type": "markdown",
   "metadata": {},
   "source": [
    "<h1 class=\"page-subject\">\n",
    "   파이썬 비교 연산자\n",
    "    \n",
    "        \n",
    "    \n",
    "</h1>\n",
    "\n",
    "<div class=\"page-content tex2jax_process\">\n",
    "    <h3 id=\"comparison-operators\">비교 연산자 (Comparison Operators):</h3>\n",
    "<p>a = 10, b = 20 이라 가정한다.</p>\n",
    "<table>\n",
    "<thead>\n",
    "<tr>\n",
    "<th align=\"center\">Operator</th>\n",
    "<th align=\"center\">Description</th>\n",
    "<th align=\"center\">Example</th>\n",
    "</tr>\n",
    "</thead>\n",
    "<tbody>\n",
    "<tr>\n",
    "<td align=\"center\">==</td>\n",
    "<td align=\"center\">값이 동일하다</td>\n",
    "<td align=\"center\">(a == b) → false</td>\n",
    "</tr>\n",
    "<tr>\n",
    "<td align=\"center\">!=</td>\n",
    "<td align=\"center\">값이 동일하지 않다</td>\n",
    "<td align=\"center\">(a != b) → true</td>\n",
    "</tr>\n",
    "<tr>\n",
    "<td align=\"center\">&gt;</td>\n",
    "<td align=\"center\">왼쪽 값이 오른쪽 값보다 크다</td>\n",
    "<td align=\"center\">(a &gt; b) → false</td>\n",
    "</tr>\n",
    "<tr>\n",
    "<td align=\"center\">&lt;</td>\n",
    "<td align=\"center\">왼쪽 값이 오른쪽 값보다 작다</td>\n",
    "<td align=\"center\">(a &lt; b) → true</td>\n",
    "</tr>\n",
    "<tr>\n",
    "<td align=\"center\">&gt;=</td>\n",
    "<td align=\"center\">왼쪽 값이 오른쪽 값보다 크거나 동일하다</td>\n",
    "<td align=\"center\">(a &gt;= b) → false</td>\n",
    "</tr>\n",
    "<tr>\n",
    "<td align=\"center\">&lt;=</td>\n",
    "<td align=\"center\">왼쪽 값이 오른쪽 값보다 작거나 동일하다</td>\n",
    "<td align=\"center\">(a &lt;= b) → true</td>\n",
    "</tr>\n",
    "</tbody>\n",
    "</table>\n",
    "</div>\n",
    "\n",
    "<div class=\"muted text-right\" style=\"font-size: 12px;margin:10px 0;\">\n",
    "    "
   ]
  },
  {
   "cell_type": "markdown",
   "metadata": {},
   "source": [
    "<h1 class=\"page-subject\">\n",
    "    파이썬 논리 연산자\n",
    "    \n",
    "        \n",
    "    \n",
    "</h1>\n",
    "\n",
    "<div class=\"page-content tex2jax_process\">\n",
    "    <h3 id=\"logical-operators\">논리 연산자 (Logical Operators):</h3>\n",
    "<p>a = True, b = False 이라 가정한다.</p>\n",
    "<table>\n",
    "<thead>\n",
    "<tr>\n",
    "<th align=\"center\">Operator</th>\n",
    "<th align=\"center\">Description</th>\n",
    "<th align=\"center\">Example</th>\n",
    "</tr>\n",
    "</thead>\n",
    "<tbody>\n",
    "<tr>\n",
    "<td align=\"center\">and</td>\n",
    "<td align=\"center\">논리 AND 연산. 둘다 참일때만 참</td>\n",
    "<td align=\"center\">(a and b) = False</td>\n",
    "</tr>\n",
    "<tr>\n",
    "<td align=\"center\">or</td>\n",
    "<td align=\"center\">논리 OR 연산. 둘 중 하나만 참이여도 참</td>\n",
    "<td align=\"center\">(a or b) = True</td>\n",
    "</tr>\n",
    "<tr>\n",
    "<td align=\"center\">not</td>\n",
    "<td align=\"center\">논리 NOT 연산. 논리 상태를 반전</td>\n",
    "<td align=\"center\">not(a and b) = True</td>\n",
    "</tr>\n",
    "</tbody>\n",
    "</table>\n",
    "</div>\n",
    "\n",
    "<div class=\"muted text-right\" style=\"font-size: 12px;margin:10px 0;\">\n",
    "    "
   ]
  },
  {
   "cell_type": "code",
   "execution_count": 13,
   "metadata": {},
   "outputs": [
    {
     "data": {
      "text/plain": [
       "True"
      ]
     },
     "execution_count": 13,
     "metadata": {},
     "output_type": "execute_result"
    }
   ],
   "source": [
    "1==1 and 2==2"
   ]
  },
  {
   "cell_type": "code",
   "execution_count": 14,
   "metadata": {},
   "outputs": [
    {
     "data": {
      "text/plain": [
       "False"
      ]
     },
     "execution_count": 14,
     "metadata": {},
     "output_type": "execute_result"
    }
   ],
   "source": [
    "1==2 and 2==1 "
   ]
  },
  {
   "cell_type": "code",
   "execution_count": 15,
   "metadata": {},
   "outputs": [
    {
     "data": {
      "text/plain": [
       "True"
      ]
     },
     "execution_count": 15,
     "metadata": {},
     "output_type": "execute_result"
    }
   ],
   "source": [
    "1==1 or 1==2 or 1==3"
   ]
  },
  {
   "cell_type": "code",
   "execution_count": 16,
   "metadata": {},
   "outputs": [
    {
     "data": {
      "text/plain": [
       "False"
      ]
     },
     "execution_count": 16,
     "metadata": {},
     "output_type": "execute_result"
    }
   ],
   "source": [
    "not 1==1"
   ]
  },
  {
   "cell_type": "code",
   "execution_count": 17,
   "metadata": {},
   "outputs": [
    {
     "data": {
      "text/plain": [
       "True"
      ]
     },
     "execution_count": 17,
     "metadata": {},
     "output_type": "execute_result"
    }
   ],
   "source": [
    "not 1==2"
   ]
  },
  {
   "cell_type": "markdown",
   "metadata": {},
   "source": [
    "# 조건문"
   ]
  },
  {
   "cell_type": "markdown",
   "metadata": {},
   "source": [
    "<div class=\"page-content tex2jax_process\">\n",
    "    <div class=\"toc\">\n",
    "\n",
    "<h2 id=\"if\">if문은 왜 필요할까?</h2>\n",
    "<p>다음과 같은 상상을 해보자.</p>\n",
    "<blockquote>\n",
    "<p>\"돈이 있으면 택시를 타고, 돈이 없으면 걸어 간다.\"</p>\n",
    "</blockquote>\n",
    "<p>위와 같은 상황을 파이썬에서는 다음과 같이 표현할 수 있다.</p>\n",
    "<pre><code class=\"python\">&gt;&gt;&gt; money = 1\n",
    "&gt;&gt;&gt; if money:\n",
    "...     print(&quot;택시를 타고 가라&quot;)\n",
    "... else:\n",
    "...     print(&quot;걸어 가라&quot;)\n",
    "...\n",
    "택시를 타고 가라\n",
    "</code></pre>\n",
    "<p>money에 입력된 1은 참이다. 따라서 if문 다음의 문장이 수행되어 '택시를 타고 가라'가 출력된다.<br>\n",
    "각 if문은 표현식이 True로 표현될때 실행된다</p>"
   ]
  },
  {
   "cell_type": "markdown",
   "metadata": {},
   "source": [
    "<h2 id=\"if_1\">if문의 기본 구조</h2>\n",
    "<p>다음은 if와 else를 이용한 조건문의 기본 구조이다.</p>\n",
    "<pre><code class=\"python\">if 조건문:\n",
    "    수행할 문장1\n",
    "    수행할 문장2\n",
    "    ...\n",
    "else:\n",
    "    수행할 문장A\n",
    "    수행할 문장B\n",
    "    ...\n",
    "</code></pre>"
   ]
  },
  {
   "cell_type": "markdown",
   "metadata": {},
   "source": [
    "<h3 id=\"_1\">들여쓰기</h3>\n",
    "<p>if문을 만들 때는 if 조건문: 바로 아래 문장부터 if문에 속하는 모든 문장에 들여쓰기(indentation)를 해주어야 한다. \n",
    "    다음과 같이 조건문이 참일 경우 \"수행할 문장1\"을 들여쓰기 했고 \n",
    "    \"수행할 문장2\"와 \"수행할 문장3\"도 들여쓰기를 해주었다.</p>\n",
    "<pre><code class=\"python\">if 조건문:\n",
    "    수행할 문장1\n",
    "    수행할 문장2\n",
    "    수행할 문장3\n",
    "</code></pre>\n",
    "\n",
    "<p>다음과 같이 작성하면 오류가 발생한다. \"수행할 문장2\"를 들여쓰기 하지 않았기 때문이다. </p>\n",
    "<pre><code class=\"python\">if 조건문:\n",
    "    수행할 문장1\n",
    "수행할 문장2\n",
    "    수행할 문장3\n",
    "</code></pre>\n",
    "\n",
    "<p>다음 예제를 살펴보면 무슨 말인지 이해할 수 있을 것이다.</p>\n",
    "<pre><code class=\"python\">&gt;&gt;&gt; money = 1\n",
    "&gt;&gt;&gt; if money:\n",
    "...     print(&quot;택시를&quot;)\n",
    "... print(&quot;타고&quot;)\n",
    "File &quot;&lt;stdin&gt;&quot;, line 3\n",
    "print(&quot;타고&quot;)\n",
    "^\n",
    "SyntaxError: invalid syntax\n",
    "</code></pre>\n",
    "<p>if 조건문 뒤에는 반드시 콜론(:)이 붙는다. 어떤 특별한 의미가 있다기보다는 파이썬의 문법 구조이다.<br>\n",
    "    왜 하필 콜론(:)인지 궁금하다면 파이썬을 만든 귀도에게 직접 물어보아야 할 것이다.<br> 앞으로 배우게 될 while이나 for, def, class문에도 역시 문장의 끝에 콜론(:)이 항상 들어간다. <br> 초보자들은 이 콜론(:)을 빠뜨리는 경우가 많으니 특히 주의하자.</p>"
   ]
  },
  {
   "cell_type": "markdown",
   "metadata": {},
   "source": [
    "<blockquote>\n",
    "<p>\"만약 3000원 이상의 돈을 가지고 있으면 택시를 타고 그렇지 않으면 걸어 가라\"</p>\n",
    "</blockquote>\n",
    "<p>위의 상황은 다음처럼 프로그래밍할 수 있다.</p>\n",
    "<pre><code class=\"python\">&gt;&gt;&gt; money = 2000\n",
    "&gt;&gt;&gt; if money &gt;= 3000:\n",
    "...     print(&quot;택시를 타고 가라&quot;)\n",
    "... else:\n",
    "...     print(&quot;걸어가라&quot;)\n",
    "...\n",
    "걸어가라\n",
    "&gt;&gt;&gt;"
   ]
  },
  {
   "cell_type": "markdown",
   "metadata": {},
   "source": [
    "<big> 복합문은 하나 이상의 절(clause)로 구성되어 있고,<br> 절은 두개 이상의 행으로 구성되는데 첫 행을 헤더(header),<br> 그 뒤를 스위트(suite)라고 한다. 헤더는 키워드, 콜론, 들여쓰기로 이루어지며,<br> 들여쓰기 다음에는 하나 이ㅣ상의 스위트가 있습니다. </big>"
   ]
  },
  {
   "cell_type": "code",
   "execution_count": 3,
   "metadata": {},
   "outputs": [
    {
     "name": "stdout",
     "output_type": "stream",
     "text": [
      "I don’t know!\n",
      "x is 100!\n",
      "x is even!\n"
     ]
    }
   ],
   "source": [
    "x = 100\n",
    "if x == 10:\n",
    "    print(\"10!\")\n",
    "elif x == 20:\n",
    "    print(\"20!\")\n",
    "else:\n",
    "    print(\"I don’t know!\")\n",
    "\n",
    "\n",
    "if x == 100:\n",
    "    print(\"x is 100!\")\n",
    "\n",
    "\n",
    "if x % 2 == 0:\n",
    "    print(\"x is even!\")\n",
    "else:\n",
    "    print(\"x is odd!\")"
   ]
  },
  {
   "cell_type": "code",
   "execution_count": null,
   "metadata": {
    "collapsed": true
   },
   "outputs": [],
   "source": []
  }
 ],
 "metadata": {
  "kernelspec": {
   "display_name": "Python 3",
   "language": "python",
   "name": "python3"
  },
  "language_info": {
   "codemirror_mode": {
    "name": "ipython",
    "version": 3
   },
   "file_extension": ".py",
   "mimetype": "text/x-python",
   "name": "python",
   "nbconvert_exporter": "python",
   "pygments_lexer": "ipython3",
   "version": "3.6.4"
  }
 },
 "nbformat": 4,
 "nbformat_minor": 2
}
