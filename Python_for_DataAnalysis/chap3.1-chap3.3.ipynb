{
 "cells": [
  {
   "cell_type": "markdown",
   "metadata": {},
   "source": [
    "# <big>3.1</big>\n",
    "IPython 기본"
   ]
  },
  {
   "cell_type": "code",
   "execution_count": 3,
   "metadata": {},
   "outputs": [
    {
     "data": {
      "text/plain": [
       "5"
      ]
     },
     "execution_count": 3,
     "metadata": {},
     "output_type": "execute_result"
    }
   ],
   "source": [
    "a =5\n",
    "a"
   ]
  },
  {
   "cell_type": "code",
   "execution_count": 4,
   "metadata": {},
   "outputs": [],
   "source": [
    "from numpy.random import randn"
   ]
  },
  {
   "cell_type": "code",
   "execution_count": 5,
   "metadata": {},
   "outputs": [
    {
     "data": {
      "text/plain": [
       "{0: 1.3293073923408039,\n",
       " 1: 1.8031547549702167,\n",
       " 2: 0.5363723120064058,\n",
       " 3: 0.5271059083900682,\n",
       " 4: 1.1811899612324122,\n",
       " 5: 0.8065797262960528,\n",
       " 6: -0.9449203760671009}"
      ]
     },
     "execution_count": 5,
     "metadata": {},
     "output_type": "execute_result"
    }
   ],
   "source": [
    "data = {i : randn() for i in range(7)}\n",
    "data"
   ]
  },
  {
   "cell_type": "markdown",
   "metadata": {},
   "source": [
    "<big> 파이썬객체는 print를 이용한 출력결과와 달리 읽기가 편하고 보기가 좋다</big>"
   ]
  },
  {
   "cell_type": "code",
   "execution_count": 6,
   "metadata": {},
   "outputs": [
    {
     "name": "stdout",
     "output_type": "stream",
     "text": [
      "{0: 1.3293073923408039, 1: 1.8031547549702167, 2: 0.5363723120064058, 3: 0.5271059083900682, 4: 1.1811899612324122, 5: 0.8065797262960528, 6: -0.9449203760671009}\n"
     ]
    }
   ],
   "source": [
    "print(data)"
   ]
  },
  {
   "cell_type": "markdown",
   "metadata": {},
   "source": [
    "*모듈 참고: https://wikidocs.net/29"
   ]
  },
  {
   "cell_type": "markdown",
   "metadata": {},
   "source": [
    "## 3.1.1\n",
    "<big>탭 자동 완성</big>\n",
    " - 객체 및 모듈 속성\n",
    " - 파일 경로"
   ]
  },
  {
   "cell_type": "code",
   "execution_count": 14,
   "metadata": {
    "collapsed": true
   },
   "outputs": [],
   "source": [
    "# 객체 및 모듈\n",
    "an_apple = 27"
   ]
  },
  {
   "cell_type": "code",
   "execution_count": 15,
   "metadata": {
    "collapsed": true
   },
   "outputs": [],
   "source": [
    "an_example = 42"
   ]
  },
  {
   "cell_type": "code",
   "execution_count": 16,
   "metadata": {},
   "outputs": [
    {
     "data": {
      "text/plain": [
       "42"
      ]
     },
     "execution_count": 16,
     "metadata": {},
     "output_type": "execute_result"
    }
   ],
   "source": [
    "an_example"
   ]
  },
  {
   "cell_type": "code",
   "execution_count": null,
   "metadata": {},
   "outputs": [],
   "source": [
    "an"
   ]
  },
  {
   "cell_type": "markdown",
   "metadata": {},
   "source": [
    "an을 입력한 뒤, Tab 키를 누르면 an_apple과 an_example, and, any라는 자동완성 기능 활용 가능"
   ]
  },
  {
   "cell_type": "code",
   "execution_count": 2,
   "metadata": {},
   "outputs": [],
   "source": [
    "b =[1, 2, 3]"
   ]
  },
  {
   "cell_type": "code",
   "execution_count": 3,
   "metadata": {},
   "outputs": [
    {
     "data": {
      "text/plain": [
       "[1, 2, 3]"
      ]
     },
     "execution_count": 3,
     "metadata": {},
     "output_type": "execute_result"
    }
   ],
   "source": [
    "b"
   ]
  },
  {
   "cell_type": "markdown",
   "metadata": {},
   "source": [
    "위의 an과 마찬가지로 b.을 입력한 뒤, Tab 키를 누르면 여러가지 함수가 나옴"
   ]
  },
  {
   "cell_type": "code",
   "execution_count": null,
   "metadata": {
    "collapsed": true
   },
   "outputs": [],
   "source": [
    "import datetime"
   ]
  },
  {
   "cell_type": "markdown",
   "metadata": {},
   "source": [
    "datetime. Tab도 작동"
   ]
  },
  {
   "cell_type": "code",
   "execution_count": null,
   "metadata": {
    "collapsed": true
   },
   "outputs": [],
   "source": [
    "datatime"
   ]
  },
  {
   "cell_type": "code",
   "execution_count": null,
   "metadata": {
    "collapsed": true
   },
   "outputs": [],
   "source": [
    "# 파일 이름"
   ]
  },
  {
   "cell_type": "markdown",
   "metadata": {},
   "source": [
    "파일 이름 대강 입력 후 Tab을 누르면 위와 같이 비슷한 이름의 파일을 자동 완성 기능으로 불러올 수 있음"
   ]
  },
  {
   "cell_type": "markdown",
   "metadata": {},
   "source": [
    "## 3.1.2\n",
    "<big>자기관찰</big>"
   ]
  },
  {
   "cell_type": "markdown",
   "metadata": {},
   "source": [
    "객체의 자기관찰(변수 앞 혹은 뒤에 ? 기호): 해당 객체에 대한 정보 출력 기능"
   ]
  },
  {
   "cell_type": "code",
   "execution_count": 4,
   "metadata": {},
   "outputs": [],
   "source": [
    "b?"
   ]
  },
  {
   "cell_type": "code",
   "execution_count": 6,
   "metadata": {},
   "outputs": [],
   "source": [
    "def add_numbers(a, b):\n",
    "    \"\"\"\n",
    "    Add two numbers together\n",
    "    Returns\n",
    "    -------\n",
    "    the_sum : type of arguments\n",
    "    \"\"\"\n",
    "    return a + b"
   ]
  },
  {
   "cell_type": "code",
   "execution_count": 7,
   "metadata": {},
   "outputs": [],
   "source": [
    "# 객체가 함수 혹은 인스턴스 메서드인 경우, 정의되어 있는 문서 출력\n",
    "add_numbers?"
   ]
  },
  {
   "cell_type": "code",
   "execution_count": 8,
   "metadata": {},
   "outputs": [],
   "source": [
    "# ??는 함수의 소수코드\n",
    "add_numbers??"
   ]
  },
  {
   "cell_type": "markdown",
   "metadata": {},
   "source": [
    "파이썬 docstring\n",
    "\n",
    "docstring은 코드의 문서화에 도움이 되는 문자열을 말한다.\n",
    "\n",
    "쌍따옴표 세개를 사용하여 docstring을 작성한다. (\"\"\" 이런 저런 내용 \"\"\")\n",
    "\n",
    "docstring을 사용하여 여러줄의 주석을 작성할 수 있다. (그냥 #을 추천)\n",
    "\n",
    "모듈 파일 처음이나 함수, 클래스 선언 다음 라인에 docstring을 작성한다.\n",
    "\n",
    "중요한 내용을 docstring 첫줄에 작성 후, 한 칸 띄고 자세한 내용을 적는다.\n",
    "\n"
   ]
  },
  {
   "cell_type": "markdown",
   "metadata": {
    "collapsed": true
   },
   "source": [
    "<!-- BEGIN TWITTERCARD -->\n",
    "<meta name=\"twitter:card\" content=\"summary_large_image\"><meta name=\"twitter:site\" content=\"@TISTORY\"><meta name=\"twitter:title\" content=\"파이썬 주석, docstring 사용법 정리 (파이썬 help 함수, __doc__ 속성)\" ><meta name=\"twitter:description\" content=\"파이썬(Python) 주석과 docstring 사용법을 정리합니다. 파이썬 주석, docstring 사용법  파이썬 주석 파이썬에서는 #기호를 사용하여 주석을 표현한다. 주석은 코드에 어떠한 영향도 미치지 않는다. 파이썬 docst..\" ><meta property=\"twitter:image\" content=\"http://cfile3.uf.tistory.com/image/2411DD335899B6F5102254\" >\n",
    "<!-- END TWITTERCARD -->\n",
    "\n",
    "\n",
    "\n",
    "<!-- BEGIN DAUMAPP -->\n",
    "<meta property=\"dg:plink\" content=\"http://withcoding.com/71\" ><meta name=\"plink\" content=\"http://withcoding.com/71\" ><meta name=\"title\" content=\"파이썬 주석, docstring 사용법 정리 (파이썬 help 함수, __doc__ 속성)\" ><meta name=\"article:media_name\" content=\"위드코딩\" ><meta property=\"article:mobile_url\" content=\"http://withcoding.com/m/71\" ><meta property=\"article:pc_url\" content=\"http://withcoding.com/71\" ><meta property=\"article:mobile_view_url\" content=\"http://withcoding.tistory.com/m/71\" ><meta property=\"article:pc_view_url\" content=\"http://withcoding.tistory.com/71\" ><meta property=\"article:talk_channel_view_url\" content=\"http://withcoding.com/m/71\" ><meta property=\"article:pc_service_home\" content=\"http://www.tistory.com\" ><meta property=\"article:mobile_service_home\" content=\"http://www.tistory.com/m\" ><meta property=\"article:txid\" content=\"1675837_71\" /><meta property=\"article:published_time\" content=\"2017-02-07T21:49:36+09:00\" ><meta property=\"og:regDate\" content=\"20170207210126\" ><meta property=\"article:modified_time\" content=\"2017-02-07T21:49:36+09:00\" >\n",
    "<!-- END DAUMAPP -->\n"
   ]
  },
  {
   "cell_type": "code",
   "execution_count": null,
   "metadata": {
    "collapsed": true
   },
   "outputs": [],
   "source": [
    "import numpy as np"
   ]
  },
  {
   "cell_type": "code",
   "execution_count": null,
   "metadata": {
    "collapsed": true
   },
   "outputs": [],
   "source": [
    "np.*load*?\n",
    "# numpy에서 load를 포함하는 함수 목록 출력"
   ]
  },
  {
   "cell_type": "markdown",
   "metadata": {},
   "source": [
    "## 3.1.3\n",
    "<big>%run 명령어</big>\n",
    " - 파이썬 프로그램 파일 불러오기\n",
    " - 중지: 실행되고 있는 코드 중간에 Ctrl + C"
   ]
  },
  {
   "cell_type": "code",
   "execution_count": 10,
   "metadata": {},
   "outputs": [
    {
     "name": "stdout",
     "output_type": "stream",
     "text": [
      "Overwriting ipython_script_test.py\n"
     ]
    }
   ],
   "source": [
    "%%writefile ipython_script_test.py\n",
    "def f(x,y,z):\n",
    "    return(x+y)/z\n",
    "\n",
    "a=5\n",
    "b=6\n",
    "c=7.5\n",
    "\n",
    "result=f(a,b,c)"
   ]
  },
  {
   "cell_type": "code",
   "execution_count": 11,
   "metadata": {},
   "outputs": [
    {
     "data": {
      "text/plain": [
       "'C:\\\\python_data_analysis\\\\pydata-book-1st-edition\\\\pydata-book-1st-edition'"
      ]
     },
     "execution_count": 11,
     "metadata": {},
     "output_type": "execute_result"
    }
   ],
   "source": [
    "%pwd"
   ]
  },
  {
   "cell_type": "code",
   "execution_count": 12,
   "metadata": {},
   "outputs": [],
   "source": [
    "# ipython_script_test라는 파일 생성\n",
    "%run ipython_script_test.py "
   ]
  },
  {
   "cell_type": "code",
   "execution_count": 13,
   "metadata": {},
   "outputs": [
    {
     "data": {
      "text/plain": [
       "7.5"
      ]
     },
     "execution_count": 13,
     "metadata": {},
     "output_type": "execute_result"
    }
   ],
   "source": [
    "c"
   ]
  },
  {
   "cell_type": "code",
   "execution_count": 14,
   "metadata": {
    "scrolled": true
   },
   "outputs": [
    {
     "data": {
      "text/plain": [
       "1.4666666666666666"
      ]
     },
     "execution_count": 14,
     "metadata": {},
     "output_type": "execute_result"
    }
   ],
   "source": [
    "result"
   ]
  },
  {
   "cell_type": "markdown",
   "metadata": {},
   "source": [
    "## 3.1.4\n",
    "<big>클립보드에 있는 코드 실행하기</big>"
   ]
  },
  {
   "cell_type": "code",
   "execution_count": null,
   "metadata": {
    "collapsed": true
   },
   "outputs": [],
   "source": [
    "x = 5 \n",
    "y = 7\n",
    "if x > 5:\n",
    "    x += 1\n",
    "    \n",
    "    y = 8"
   ]
  },
  {
   "cell_type": "code",
   "execution_count": null,
   "metadata": {
    "collapsed": true
   },
   "outputs": [],
   "source": [
    "x=5"
   ]
  },
  {
   "cell_type": "code",
   "execution_count": null,
   "metadata": {
    "collapsed": true
   },
   "outputs": [],
   "source": [
    "y=7"
   ]
  },
  {
   "cell_type": "code",
   "execution_count": null,
   "metadata": {
    "collapsed": true
   },
   "outputs": [],
   "source": [
    "if x>5:\n",
    "    x+1"
   ]
  },
  {
   "cell_type": "code",
   "execution_count": null,
   "metadata": {
    "collapsed": true
   },
   "outputs": [],
   "source": [
    "    y=8"
   ]
  },
  {
   "cell_type": "code",
   "execution_count": null,
   "metadata": {
    "collapsed": true
   },
   "outputs": [],
   "source": [
    "x=5\n",
    "y=7\n",
    "if x>5:\n",
    "    x+1\n",
    "    y=8  "
   ]
  },
  {
   "cell_type": "code",
   "execution_count": null,
   "metadata": {
    "collapsed": true
   },
   "outputs": [],
   "source": [
    "%paste\n",
    "x =5 \n",
    "y = 7\n",
    "if x > 5:\n",
    "    x += 1\n",
    "    \n",
    "    y = 8\n",
    "## -- End pasted text --"
   ]
  },
  {
   "cell_type": "markdown",
   "metadata": {},
   "source": [
    "나보기가 엮겨워<br /> 가실 때에는<br /> 말없이 고이 보내드리우리다<br /><br /> 영변(寧邊)에 약산(藥山)<br /> 진달래꽃<br /> 아름따다 가실 길에 뿌리우리다."
   ]
  },
  {
   "cell_type": "markdown",
   "metadata": {},
   "source": [
    "* <small>작은 문자들</small>\n",
    "* <big>큰 글자들</big>"
   ]
  },
  {
   "cell_type": "markdown",
   "metadata": {},
   "source": [
    "## 3.1.5\n",
    "<big>키보드 단축기</big>"
   ]
  },
  {
   "cell_type": "markdown",
   "metadata": {},
   "source": [
    "| 명령 | 설명 |\n",
    "|:--------|:--------:|\n",
    "| Ctrl+P |  명령어 히스토리 역순 검색 |\n",
    "| Ctrl+N | 명령어 히스토리 최근 순 검색 |\n",
    "| Ctrl+R |  readline 명령어 형식의 히스토리 검색 |\n",
    "| Ctrl+Shift+V |  클립보드에서 텍스트 붙여넣기 |\n",
    "| Ctrl+C |  현재 실행 중인 코드 중단 |\n",
    "| Ctrl+A |  커서를 줄의 처음으로 이동 |\n",
    "| Ctrl+E |  커서를 줄의 끝으로 이동 |\n",
    "| Ctrl+K |  커서가 놓인 곳부터 끝까지 텍스트 삭제 |\n",
    "| Ctrl+U |  현재 입력된 모든 텍스트 지우기 |\n",
    "| Ctrl+F |  커서를 앞으로 한 글자씩 이동 |\n",
    "| Ctrl+B |  커서를 뒤로 한 글자씩 이동 |\n",
    "| Ctrl+L |  화면 지우기 |"
   ]
  },
  {
   "cell_type": "markdown",
   "metadata": {},
   "source": [
    "## 3.1.6 \n",
    "<big>예외와 트레이스백</big>"
   ]
  },
  {
   "cell_type": "markdown",
   "metadata": {},
   "source": [
    "%run: 스크립트나 파이썬 코드 실행 중 오류 발생 시, 전체 스택 정보를 각 위치별 문맥정보와 함께 볼 수 있음"
   ]
  },
  {
   "cell_type": "code",
   "execution_count": null,
   "metadata": {
    "collapsed": true
   },
   "outputs": [],
   "source": [
    "%cd ch03\n"
   ]
  },
  {
   "cell_type": "code",
   "execution_count": null,
   "metadata": {
    "collapsed": true
   },
   "outputs": [],
   "source": [
    "%ls\n"
   ]
  },
  {
   "cell_type": "code",
   "execution_count": null,
   "metadata": {
    "collapsed": true
   },
   "outputs": [],
   "source": [
    "%pwd\n"
   ]
  },
  {
   "cell_type": "code",
   "execution_count": null,
   "metadata": {
    "collapsed": true
   },
   "outputs": [],
   "source": [
    "%run ipython_bug.py"
   ]
  },
  {
   "cell_type": "code",
   "execution_count": null,
   "metadata": {
    "collapsed": true
   },
   "outputs": [],
   "source": [
    "%run ipython_bug.py"
   ]
  },
  {
   "cell_type": "code",
   "execution_count": null,
   "metadata": {
    "collapsed": true
   },
   "outputs": [],
   "source": [
    "%pwd\n"
   ]
  },
  {
   "cell_type": "code",
   "execution_count": 9,
   "metadata": {},
   "outputs": [
    {
     "ename": "AssertionError",
     "evalue": "",
     "output_type": "error",
     "traceback": [
      "\u001b[1;31m---------------------------------------------------------------------------\u001b[0m",
      "\u001b[1;31mAssertionError\u001b[0m                            Traceback (most recent call last)",
      "\u001b[1;32mC:\\python_data_analysis\\pydata-book-1st-edition\\ch03\\ipython_bug.py\u001b[0m in \u001b[0;36m<module>\u001b[1;34m()\u001b[0m\n\u001b[0;32m     13\u001b[0m     \u001b[0mthrows_an_exception\u001b[0m\u001b[1;33m(\u001b[0m\u001b[1;33m)\u001b[0m\u001b[1;33m\u001b[0m\u001b[0m\n\u001b[0;32m     14\u001b[0m \u001b[1;33m\u001b[0m\u001b[0m\n\u001b[1;32m---> 15\u001b[1;33m \u001b[0mcalling_things\u001b[0m\u001b[1;33m(\u001b[0m\u001b[1;33m)\u001b[0m\u001b[1;33m\u001b[0m\u001b[0m\n\u001b[0m",
      "\u001b[1;32mC:\\python_data_analysis\\pydata-book-1st-edition\\ch03\\ipython_bug.py\u001b[0m in \u001b[0;36mcalling_things\u001b[1;34m()\u001b[0m\n\u001b[0;32m     11\u001b[0m \u001b[1;32mdef\u001b[0m \u001b[0mcalling_things\u001b[0m\u001b[1;33m(\u001b[0m\u001b[1;33m)\u001b[0m\u001b[1;33m:\u001b[0m\u001b[1;33m\u001b[0m\u001b[0m\n\u001b[0;32m     12\u001b[0m     \u001b[0mworks_fine\u001b[0m\u001b[1;33m(\u001b[0m\u001b[1;33m)\u001b[0m\u001b[1;33m\u001b[0m\u001b[0m\n\u001b[1;32m---> 13\u001b[1;33m     \u001b[0mthrows_an_exception\u001b[0m\u001b[1;33m(\u001b[0m\u001b[1;33m)\u001b[0m\u001b[1;33m\u001b[0m\u001b[0m\n\u001b[0m\u001b[0;32m     14\u001b[0m \u001b[1;33m\u001b[0m\u001b[0m\n\u001b[0;32m     15\u001b[0m \u001b[0mcalling_things\u001b[0m\u001b[1;33m(\u001b[0m\u001b[1;33m)\u001b[0m\u001b[1;33m\u001b[0m\u001b[0m\n",
      "\u001b[1;32mC:\\python_data_analysis\\pydata-book-1st-edition\\ch03\\ipython_bug.py\u001b[0m in \u001b[0;36mthrows_an_exception\u001b[1;34m()\u001b[0m\n\u001b[0;32m      7\u001b[0m     \u001b[0ma\u001b[0m \u001b[1;33m=\u001b[0m \u001b[1;36m5\u001b[0m\u001b[1;33m\u001b[0m\u001b[0m\n\u001b[0;32m      8\u001b[0m     \u001b[0mb\u001b[0m \u001b[1;33m=\u001b[0m \u001b[1;36m6\u001b[0m\u001b[1;33m\u001b[0m\u001b[0m\n\u001b[1;32m----> 9\u001b[1;33m     \u001b[1;32massert\u001b[0m\u001b[1;33m(\u001b[0m\u001b[0ma\u001b[0m \u001b[1;33m+\u001b[0m \u001b[0mb\u001b[0m \u001b[1;33m==\u001b[0m \u001b[1;36m10\u001b[0m\u001b[1;33m)\u001b[0m\u001b[1;33m\u001b[0m\u001b[0m\n\u001b[0m\u001b[0;32m     10\u001b[0m \u001b[1;33m\u001b[0m\u001b[0m\n\u001b[0;32m     11\u001b[0m \u001b[1;32mdef\u001b[0m \u001b[0mcalling_things\u001b[0m\u001b[1;33m(\u001b[0m\u001b[1;33m)\u001b[0m\u001b[1;33m:\u001b[0m\u001b[1;33m\u001b[0m\u001b[0m\n",
      "\u001b[1;31mAssertionError\u001b[0m: "
     ]
    }
   ],
   "source": [
    "%run C:\\python_data_analysis\\pydata-book-1st-edition\\ch03\\ipython_bug.py"
   ]
  },
  {
   "cell_type": "code",
   "execution_count": 10,
   "metadata": {},
   "outputs": [
    {
     "name": "stdout",
     "output_type": "stream",
     "text": [
      "> \u001b[1;32mc:\\python_data_analysis\\pydata-book-1st-edition\\ch03\\ipython_bug.py\u001b[0m(9)\u001b[0;36mthrows_an_exception\u001b[1;34m()\u001b[0m\n",
      "\u001b[1;32m      7 \u001b[1;33m    \u001b[0ma\u001b[0m \u001b[1;33m=\u001b[0m \u001b[1;36m5\u001b[0m\u001b[1;33m\u001b[0m\u001b[0m\n",
      "\u001b[0m\u001b[1;32m      8 \u001b[1;33m    \u001b[0mb\u001b[0m \u001b[1;33m=\u001b[0m \u001b[1;36m6\u001b[0m\u001b[1;33m\u001b[0m\u001b[0m\n",
      "\u001b[0m\u001b[1;32m----> 9 \u001b[1;33m    \u001b[1;32massert\u001b[0m\u001b[1;33m(\u001b[0m\u001b[0ma\u001b[0m \u001b[1;33m+\u001b[0m \u001b[0mb\u001b[0m \u001b[1;33m==\u001b[0m \u001b[1;36m10\u001b[0m\u001b[1;33m)\u001b[0m\u001b[1;33m\u001b[0m\u001b[0m\n",
      "\u001b[0m\u001b[1;32m     10 \u001b[1;33m\u001b[1;33m\u001b[0m\u001b[0m\n",
      "\u001b[0m\u001b[1;32m     11 \u001b[1;33m\u001b[1;32mdef\u001b[0m \u001b[0mcalling_things\u001b[0m\u001b[1;33m(\u001b[0m\u001b[1;33m)\u001b[0m\u001b[1;33m:\u001b[0m\u001b[1;33m\u001b[0m\u001b[0m\n",
      "\u001b[0m\n",
      "ipdb> q\n"
     ]
    }
   ],
   "source": [
    "%debug\n"
   ]
  },
  {
   "cell_type": "markdown",
   "metadata": {},
   "source": [
    "assert 문은 어떤 상태를 검증하기 위한 명령이다.<br /> 따라서 입력된 식을 계산하여 결과가 참일 때는 아무 문제를 일으키지 않고,<br /> 결과가 거짓일 때만 AssertionError 예외를 발생시킨다.<br /> assert 문을 작성하는 양식은 다음과 같다.<br />\n",
    "assert 검증식, 오류메시지"
   ]
  },
  {
   "cell_type": "markdown",
   "metadata": {},
   "source": [
    "[assert 문](https://python.bakyeono.net/chapter-9-4.html)\n",
    "\n"
   ]
  },
  {
   "cell_type": "markdown",
   "metadata": {},
   "source": [
    "<p><strong>연습문제 9-5</strong> 은행 계좌 관련 예외 1</p>\n",
    "\n",
    "<p>은행 계좌와 관련된 예외를 다음과 같이 정의해 보아라.</p>\n",
    "\n",
    "<div class=\"highlighter-rouge\"><div class=\"highlight\"><pre class=\"highlight\"><code>BaseException\n",
    "└── Exception\n",
    "    └── AccountException (계좌 관련 예외)\n",
    "        ├── AccountBalanceException (계좌 잔고 예외)\n",
    "        ├── FrozenAccountException (동결 계좌 예외)\n",
    "        └── InvalidTransactionException (잘못된 입출금 예외)\n",
    "</code></pre></div></div>"
   ]
  },
  {
   "cell_type": "markdown",
   "metadata": {},
   "source": [
    "<h3 id=\"946-assert-문으로-검증하기\">9.4.6 assert 문으로 검증하기</h3>\n",
    "\n",
    "<p>논리적 오류를 해결하는 또다른 방법은 assert 문을 이용하는 방법이다. assert 문은 예외를 일으킨다는 점에서 raise 문과 비슷한 명령이다. 하지만 언제, 왜, 어떤 예외를 발생시키는지가 raise 문과 다르다.</p>\n",
    "\n",
    "<table>\n",
    "  <thead>\n",
    "    <tr>\n",
    "      <th>비교항목</th>\n",
    "      <th>raise 문</th>\n",
    "      <th>assert 문</th>\n",
    "    </tr>\n",
    "  </thead>\n",
    "  <tbody>\n",
    "    <tr>\n",
    "      <td>용도</td>\n",
    "      <td>예외의 발생</td>\n",
    "      <td>상태의 검증</td>\n",
    "    </tr>\n",
    "    <tr>\n",
    "      <td>언제 예외를 일으키는가?</td>\n",
    "      <td>항상</td>\n",
    "      <td>검증식이 거짓일 때만</td>\n",
    "    </tr>\n",
    "    <tr>\n",
    "      <td>어떤 예외를 일으키는가?</td>\n",
    "      <td>지정한 예외</td>\n",
    "      <td><code class=\"highlighter-rouge\">AssertionError</code></td>\n",
    "    </tr>\n",
    "  </tbody>\n",
    "</table>\n",
    "\n",
    "<p><strong>표 9-4</strong> raise 문과 assert 문의 비교</p>\n",
    "\n",
    "<p>raise 문은 오류를 이미 발견한 상황에서 예외를 발생시키기 위한 명령이다. 따라서 무조건 예외를 발생시키며, 프로그래머가 가르쳐준 예외를 발생시킨다. 반면, assert 문은 어떤 상태를 검증하기 위한 명령이다. 따라서 입력된 식을 계산하여 결과가 참일 때는 아무 문제를 일으키지 않고, 결과가 거짓일 때만 <code class=\"highlighter-rouge\">AssertionError</code> 예외를 발생시킨다.</p>\n",
    "\n",
    "<p>assert 문을 작성하는 양식은 다음과 같다.</p>\n",
    "\n",
    "<div class=\"book-form highlighter-rouge\"><div class=\"highlight\"><pre class=\"highlight\"><code>assert 검증식, 오류메시지\n",
    "</code></pre></div></div>\n",
    "\n",
    "<p>‘assert’는 ‘단언하다’라는 뜻이며, assert 문은 “이 식은 올바르다!”라고 강하게 주장하는 셈이다. 입력된 식이 거짓이라면 크게 부끄러울 것이므로 예외가 발생한다. 오류 메시지는 선택사항이므로 검증식만 입력해도 된다. 한 번 확인해 보자.</p>\n",
    "\n",
    "<div class=\"highlighter-rouge\"><div class=\"highlight\"><pre class=\"highlight\"><code>&gt;&gt;&gt; assert True         # 식이 올바르면 문제 없다\n",
    "&gt;&gt;&gt; assert 1 + 1 == 2   # 식이 올바르면 문제 없다\n",
    "\n",
    "&gt;&gt;&gt; assert 1 - 1 == 2   # 식이 거짓이면 AssertionError가 발생한다\n",
    "Traceback (most recent call last):\n",
    "  File \"&lt;stdin&gt;\", line 1, in &lt;module&gt;\n",
    "AssertionError\n",
    "\n",
    "&gt;&gt;&gt; assert False, '뭔가 잘못됐군요'   # 오류 메시지 추가하기\n",
    "Traceback (most recent call last):\n",
    "  File \"&lt;stdin&gt;\", line 1, in &lt;module&gt;\n",
    "AssertionError: 뭔가 잘못됐군요\n",
    "</code></pre></div></div>"
   ]
  },
  {
   "cell_type": "code",
   "execution_count": null,
   "metadata": {
    "collapsed": true
   },
   "outputs": [],
   "source": []
  },
  {
   "cell_type": "markdown",
   "metadata": {},
   "source": [
    "## 3.1.7\n",
    "<big>매직 명령어</big>\n",
    "- 일반적인 작업이나 IPython 시스템 동작을 쉽게 제어할 수 있도록 설계된 특수 명령어: 명령어 앞에 %\n",
    "- \n",
    "- 추가 옵션을 필요로 함 → ?를 이용해 옵션 보기\n",
    "- 오토매직: 매직 함수와 같은 이름의 변수가 선언되지 않았다면 기본적으로 % 없이 매직 함수 사용가능 → %automagic 을 통해 기능 on/off"
   ]
  },
  {
   "cell_type": "code",
   "execution_count": 37,
   "metadata": {},
   "outputs": [
    {
     "name": "stdout",
     "output_type": "stream",
     "text": [
      "42.7 µs ± 13.3 µs per loop (mean ± std. dev. of 7 runs, 10000 loops each)\n"
     ]
    }
   ],
   "source": [
    "import numpy as np\n",
    "a = np.random.randn(100, 100)\n",
    "%timeit np.dot(a, a)"
   ]
  },
  {
   "cell_type": "markdown",
   "metadata": {},
   "source": [
    "[magic command](reserhttp://ipython.readthedocs.io/en/stable/interactive/magics.html)"
   ]
  },
  {
   "cell_type": "code",
   "execution_count": 12,
   "metadata": {
    "collapsed": true
   },
   "outputs": [],
   "source": [
    "%reset?"
   ]
  },
  {
   "cell_type": "code",
   "execution_count": 17,
   "metadata": {
    "collapsed": true
   },
   "outputs": [],
   "source": [
    "a = 1"
   ]
  },
  {
   "cell_type": "code",
   "execution_count": 23,
   "metadata": {},
   "outputs": [
    {
     "ename": "NameError",
     "evalue": "name '_ip' is not defined",
     "output_type": "error",
     "traceback": [
      "\u001b[1;31m---------------------------------------------------------------------------\u001b[0m",
      "\u001b[1;31mNameError\u001b[0m                                 Traceback (most recent call last)",
      "\u001b[1;32m<ipython-input-23-5d0d03f3ce6b>\u001b[0m in \u001b[0;36m<module>\u001b[1;34m()\u001b[0m\n\u001b[1;32m----> 1\u001b[1;33m \u001b[1;34m'a'\u001b[0m \u001b[1;32min\u001b[0m \u001b[0m_ip\u001b[0m\u001b[1;33m.\u001b[0m\u001b[0muser_ns\u001b[0m\u001b[1;33m\u001b[0m\u001b[0m\n\u001b[0m",
      "\u001b[1;31mNameError\u001b[0m: name '_ip' is not defined"
     ]
    }
   ],
   "source": [
    "'a' in _ip.user_ns"
   ]
  },
  {
   "cell_type": "code",
   "execution_count": 20,
   "metadata": {},
   "outputs": [
    {
     "data": {
      "text/plain": [
       "1766809760"
      ]
     },
     "execution_count": 20,
     "metadata": {},
     "output_type": "execute_result"
    }
   ],
   "source": [
    "id(a)"
   ]
  },
  {
   "cell_type": "code",
   "execution_count": 24,
   "metadata": {
    "collapsed": true
   },
   "outputs": [],
   "source": [
    "#'a' in _ip.user_ns\n",
    "%reset -f"
   ]
  },
  {
   "cell_type": "code",
   "execution_count": 22,
   "metadata": {},
   "outputs": [
    {
     "ename": "NameError",
     "evalue": "name 'a' is not defined",
     "output_type": "error",
     "traceback": [
      "\u001b[1;31m---------------------------------------------------------------------------\u001b[0m",
      "\u001b[1;31mNameError\u001b[0m                                 Traceback (most recent call last)",
      "\u001b[1;32m<ipython-input-22-dd34ca262c24>\u001b[0m in \u001b[0;36m<module>\u001b[1;34m()\u001b[0m\n\u001b[1;32m----> 1\u001b[1;33m \u001b[0mid\u001b[0m\u001b[1;33m(\u001b[0m\u001b[0ma\u001b[0m\u001b[1;33m)\u001b[0m\u001b[1;33m\u001b[0m\u001b[0m\n\u001b[0m",
      "\u001b[1;31mNameError\u001b[0m: name 'a' is not defined"
     ]
    }
   ],
   "source": [
    "id(a)"
   ]
  },
  {
   "cell_type": "code",
   "execution_count": 25,
   "metadata": {},
   "outputs": [
    {
     "ename": "NameError",
     "evalue": "name '_ip' is not defined",
     "output_type": "error",
     "traceback": [
      "\u001b[1;31m---------------------------------------------------------------------------\u001b[0m",
      "\u001b[1;31mNameError\u001b[0m                                 Traceback (most recent call last)",
      "\u001b[1;32m<ipython-input-25-5d0d03f3ce6b>\u001b[0m in \u001b[0;36m<module>\u001b[1;34m()\u001b[0m\n\u001b[1;32m----> 1\u001b[1;33m \u001b[1;34m'a'\u001b[0m \u001b[1;32min\u001b[0m \u001b[0m_ip\u001b[0m\u001b[1;33m.\u001b[0m\u001b[0muser_ns\u001b[0m\u001b[1;33m\u001b[0m\u001b[0m\n\u001b[0m",
      "\u001b[1;31mNameError\u001b[0m: name '_ip' is not defined"
     ]
    }
   ],
   "source": [
    "'a' in _ip.user_ns"
   ]
  },
  {
   "cell_type": "markdown",
   "metadata": {},
   "source": [
    "자주 사용하는 IPython 매직 명령어\n",
    "\n",
    "| 명령어 | 설명 |\n",
    "|:--------|:--------:|\n",
    "| %quickref | IPython의 빠른 도움말 표시 | \n",
    "| %magic | 모든 매직 함수에 대한 상세 도움말 출력 | \n",
    "| %debug | 최근 예외 트레이스백의 하단에서 대화형 디버거로 진입 | \n",
    "| %hist | 명령어 입력(그리고 선택적 출력) 히스토리 출력 | \n",
    "| %pdb | 예외가 발생하면 자동으로 디버거로 진입 | \n",
    "| %paste | 클립보드에서 들여쓰기가 된 채로 파이썬 코드 가져오기 | \n",
    "| %cpaste | 실행 파이썬 코드를 수동으로 붙여 넣을 수 있는 프롬프트 표시 | \n",
    "| %reset | 대화형 네임스페이스에서 정의된 모든 변수와 이름을 삭제 | \n",
    "| %page | 객체를 pager를 통해 보기 좋게 출력 | \n",
    "| %run script.py | IPython 내에서 파이썬 스크립트 실행 | \n",
    "| %prun statement | cProfile을 통해 statement를 실행하고 프로파일링 결과를 출력 | \n",
    "| %time statement | 단일 statement 실행 시간을 출력 | \n",
    "| %timeit statement | statement를 여러차례 실행한 후 평균 실행 시간을 출력. 매우 짧은 시간 안에 끝나는 코드의 시간을 측정할 때 유용 | \n",
    "| %who, %who_ls, %whos | 대화형 네임스페이스 내에서 정의된 변수를 다양한 방법으로 표시 | \n",
    "| %xdel variable | variable을 삭제하고 IPython 내부적으로 해당 객체에 대한 모든 참조를 제거 | \n",
    "\n",
    "- 매직 함수와 같은 이름의 변수가 선언되지 않은 경우, % 없이 사용 가능\n",
    "- %%"
   ]
  },
  {
   "cell_type": "markdown",
   "metadata": {},
   "source": [
    "## 3.1.8\n",
    "<big>Qt 기반의 GUI 콘솔</big>"
   ]
  },
  {
   "cell_type": "code",
   "execution_count": null,
   "metadata": {
    "collapsed": true
   },
   "outputs": [],
   "source": [
    "#ipython qtconsole --pylab=inline"
   ]
  },
  {
   "cell_type": "code",
   "execution_count": 44,
   "metadata": {},
   "outputs": [
    {
     "name": "stdout",
     "output_type": "stream",
     "text": [
      "\n",
      "The following command must be run outside of the IPython shell:\n",
      "\n",
      "    $ pip install pyqt5\n",
      "\n",
      "The Python package manager (pip) can only be used from outside of IPython.\n",
      "Please reissue the `pip` command in a separate terminal or command prompt.\n",
      "\n",
      "See the Python documentation for more informations on how to install packages:\n",
      "\n",
      "    https://docs.python.org/3/installing/\n"
     ]
    }
   ],
   "source": [
    "pip install pyqt5"
   ]
  },
  {
   "cell_type": "code",
   "execution_count": 45,
   "metadata": {},
   "outputs": [
    {
     "name": "stdout",
     "output_type": "stream",
     "text": [
      "\n",
      "The following command must be run outside of the IPython shell:\n",
      "\n",
      "    $ pip install pyqt5-tools\n",
      "\n",
      "The Python package manager (pip) can only be used from outside of IPython.\n",
      "Please reissue the `pip` command in a separate terminal or command prompt.\n",
      "\n",
      "See the Python documentation for more informations on how to install packages:\n",
      "\n",
      "    https://docs.python.org/3/installing/\n"
     ]
    }
   ],
   "source": [
    "pip install pyqt5-tools"
   ]
  },
  {
   "cell_type": "code",
   "execution_count": 50,
   "metadata": {
    "collapsed": true
   },
   "outputs": [],
   "source": [
    "import matplotlib.pyplot as plt\n",
    "img = plt.imread('C:\\python_data_analysis\\pydata-book-1st-edition\\ch03/stinkbug.png')"
   ]
  },
  {
   "cell_type": "code",
   "execution_count": 51,
   "metadata": {},
   "outputs": [
    {
     "data": {
      "image/png": "[encoded data removed]",
      "text/plain": [
       "<matplotlib.figure.Figure at 0x9f68b38>"
      ]
     },
     "metadata": {},
     "output_type": "display_data"
    }
   ],
   "source": [
    "plt.imshow(img)\n",
    "plt.show() #추가"
   ]
  },
  {
   "cell_type": "code",
   "execution_count": 10,
   "metadata": {},
   "outputs": [
    {
     "ename": "NameError",
     "evalue": "name 'plt' is not defined",
     "output_type": "error",
     "traceback": [
      "\u001b[1;31m---------------------------------------------------------------------------\u001b[0m",
      "\u001b[1;31mNameError\u001b[0m                                 Traceback (most recent call last)",
      "\u001b[1;32m<ipython-input-10-5b2715401fd9>\u001b[0m in \u001b[0;36m<module>\u001b[1;34m()\u001b[0m\n\u001b[0;32m      1\u001b[0m \u001b[1;32mfrom\u001b[0m \u001b[0mnumpy\u001b[0m\u001b[1;33m.\u001b[0m\u001b[0mrandom\u001b[0m \u001b[1;32mimport\u001b[0m \u001b[0mrandn\u001b[0m \u001b[1;31m#randn오류 수정\u001b[0m\u001b[1;33m\u001b[0m\u001b[0m\n\u001b[1;32m----> 2\u001b[1;33m \u001b[0mplt\u001b[0m\u001b[1;33m.\u001b[0m\u001b[0mplot\u001b[0m\u001b[1;33m(\u001b[0m\u001b[0mrandn\u001b[0m\u001b[1;33m(\u001b[0m\u001b[1;36m1000\u001b[0m\u001b[1;33m)\u001b[0m\u001b[1;33m.\u001b[0m\u001b[0mcumsum\u001b[0m\u001b[1;33m(\u001b[0m\u001b[1;33m)\u001b[0m\u001b[1;33m)\u001b[0m \u001b[1;31m#plot오류 수정\u001b[0m\u001b[1;33m\u001b[0m\u001b[0m\n\u001b[0m\u001b[0;32m      3\u001b[0m \u001b[0mplt\u001b[0m\u001b[1;33m.\u001b[0m\u001b[0mshow\u001b[0m\u001b[1;33m(\u001b[0m\u001b[1;33m)\u001b[0m \u001b[1;31m#추가\u001b[0m\u001b[1;33m\u001b[0m\u001b[0m\n",
      "\u001b[1;31mNameError\u001b[0m: name 'plt' is not defined"
     ]
    }
   ],
   "source": [
    "from numpy.random import randn #randn오류 수정\n",
    "plt.plot(randn(1000).cumsum()) #plot오류 수정\n",
    "plt.show() #추가"
   ]
  },
  {
   "cell_type": "markdown",
   "metadata": {},
   "source": [
    "## 3.1.9\n",
    "<big>Pylab모드와 Matplotlib 통합</big>"
   ]
  },
  {
   "cell_type": "markdown",
   "metadata": {},
   "source": [
    "# <big>3.2</big>\n",
    "명령어 히스토리 사용하기"
   ]
  },
  {
   "cell_type": "markdown",
   "metadata": {},
   "source": [
    "## 3.2.1\n",
    "<big>명령어 검색과 재사용</big>"
   ]
  },
  {
   "cell_type": "markdown",
   "metadata": {},
   "source": [
    "- Ctrl + P: 명령어 히스토리 역순 검색 \n",
    "- Ctrl + N: 명령어 히스토리 최근 순 검색 \n",
    "- Ctrl + R: 부분 순차검색"
   ]
  },
  {
   "cell_type": "code",
   "execution_count": 4,
   "metadata": {},
   "outputs": [
    {
     "data": {
      "text/plain": [
       "'C:\\\\python_data_analysis\\\\pydata-book-1st-edition'"
      ]
     },
     "execution_count": 4,
     "metadata": {},
     "output_type": "execute_result"
    }
   ],
   "source": [
    "%pwd\n"
   ]
  },
  {
   "cell_type": "code",
   "execution_count": 9,
   "metadata": {},
   "outputs": [
    {
     "name": "stdout",
     "output_type": "stream",
     "text": [
      "1.4666666666666666\n"
     ]
    }
   ],
   "source": [
    "%run ipython_script_test1.py"
   ]
  },
  {
   "cell_type": "code",
   "execution_count": 10,
   "metadata": {},
   "outputs": [
    {
     "name": "stdout",
     "output_type": "stream",
     "text": [
      "C:\\python_data_analysis\n"
     ]
    }
   ],
   "source": [
    "cd ..\n"
   ]
  },
  {
   "cell_type": "code",
   "execution_count": 11,
   "metadata": {
    "collapsed": true
   },
   "outputs": [],
   "source": [
    "%run pydata-book-1st-edition/ipython_script_test.py"
   ]
  },
  {
   "cell_type": "code",
   "execution_count": 12,
   "metadata": {},
   "outputs": [
    {
     "data": {
      "text/plain": [
       "1.4666666666666666"
      ]
     },
     "execution_count": 12,
     "metadata": {},
     "output_type": "execute_result"
    }
   ],
   "source": [
    "result"
   ]
  },
  {
   "cell_type": "code",
   "execution_count": null,
   "metadata": {
    "collapsed": true
   },
   "outputs": [],
   "source": [
    "%run "
   ]
  },
  {
   "cell_type": "code",
   "execution_count": 1,
   "metadata": {
    "collapsed": true
   },
   "outputs": [],
   "source": [
    "#a_command = foo(z, y, z)"
   ]
  },
  {
   "cell_type": "markdown",
   "metadata": {},
   "source": [
    "## 3.2.2\n",
    "<big>입, 출력 변수</big>\n",
    "- 바로 이전 결과는 _ 변수에 입력한 내용과 출력 결과물 저장\n",
    "- 이전 결과는 __ 변수에 저장"
   ]
  },
  {
   "cell_type": "code",
   "execution_count": 13,
   "metadata": {},
   "outputs": [
    {
     "data": {
      "text/plain": [
       "134217728"
      ]
     },
     "execution_count": 13,
     "metadata": {},
     "output_type": "execute_result"
    }
   ],
   "source": [
    "2 ** 27"
   ]
  },
  {
   "cell_type": "code",
   "execution_count": 14,
   "metadata": {},
   "outputs": [
    {
     "data": {
      "text/plain": [
       "134217728"
      ]
     },
     "execution_count": 14,
     "metadata": {},
     "output_type": "execute_result"
    }
   ],
   "source": [
    "_"
   ]
  },
  {
   "cell_type": "markdown",
   "metadata": {},
   "source": [
    "입력변수는 _in(n: 입력 줄 번호) 변수에 저장<br /> \n",
    "출력 변수는 _n 변수에 저장"
   ]
  },
  {
   "cell_type": "code",
   "execution_count": 15,
   "metadata": {
    "collapsed": true
   },
   "outputs": [],
   "source": [
    "foo = 'bar'"
   ]
  },
  {
   "cell_type": "code",
   "execution_count": 16,
   "metadata": {},
   "outputs": [
    {
     "data": {
      "text/plain": [
       "'bar'"
      ]
     },
     "execution_count": 16,
     "metadata": {},
     "output_type": "execute_result"
    }
   ],
   "source": [
    "foo"
   ]
  },
  {
   "cell_type": "code",
   "execution_count": 19,
   "metadata": {},
   "outputs": [
    {
     "data": {
      "text/plain": [
       "'foo'"
      ]
     },
     "execution_count": 19,
     "metadata": {},
     "output_type": "execute_result"
    }
   ],
   "source": [
    "_i16"
   ]
  },
  {
   "cell_type": "code",
   "execution_count": 20,
   "metadata": {},
   "outputs": [
    {
     "data": {
      "text/plain": [
       "'bar'"
      ]
     },
     "execution_count": 20,
     "metadata": {},
     "output_type": "execute_result"
    }
   ],
   "source": [
    "_16"
   ]
  },
  {
   "cell_type": "code",
   "execution_count": null,
   "metadata": {
    "collapsed": true
   },
   "outputs": [],
   "source": [
    "exec(_i128) #입력변수=문자열 따라서 exec 예약어를 통해 다시 실행할 수 있음."
   ]
  },
  {
   "cell_type": "markdown",
   "metadata": {},
   "source": [
    "- %hist: 전체 혹은 일부 입력 히스토리를 줄 번호와 함께 혹은 줄 번호 없이 출력\n",
    "- %reset: 인터랙티브 네임스페이스와 추가적으로 입, 출력 캐시를 비움\n",
    "- %xdel: 특정 객체 참조 삭제, 사용 메모리 해제 함수"
   ]
  },
  {
   "cell_type": "markdown",
   "metadata": {},
   "source": [
    "## 3.2.3\n",
    "<big>입, 출력 기록하기</big>\n",
    " - %logstart: 전체 콘솔 세션의 로그 기록"
   ]
  },
  {
   "cell_type": "code",
   "execution_count": 27,
   "metadata": {},
   "outputs": [
    {
     "name": "stderr",
     "output_type": "stream",
     "text": [
      "C:\\Anaconda3\\lib\\site-packages\\IPython\\core\\magics\\logging.py:130: UserWarning: Couldn't start log: Log file is already active: ipython_log.py\n",
      "  warn(\"Couldn't start log: %s\" % sys.exc_info()[1])\n"
     ]
    }
   ],
   "source": [
    "%logstart"
   ]
  },
  {
   "cell_type": "markdown",
   "metadata": {},
   "source": [
    "로깅은 과거 명령 포함 전체 세션 기록"
   ]
  },
  {
   "cell_type": "code",
   "execution_count": 26,
   "metadata": {},
   "outputs": [
    {
     "name": "stdout",
     "output_type": "stream",
     "text": [
      "C:\\python_data_analysis\\pydata-book-1st-edition\n"
     ]
    }
   ],
   "source": [
    "%cd pydata-book-1st-edition"
   ]
  },
  {
   "cell_type": "markdown",
   "metadata": {},
   "source": [
    "# 3.3\n",
    "운영체제와 함께 사용하기\n",
    " - IPython을 종료하지 않고 윈도우나 유닉스 셸이 일반적인 명령행에서 할 수 있는 작업이 가능\n",
    "\n",
    "| 명령 |  설명  | \n",
    "| :-------- | :-------- |\n",
    "| !cmd | 시스템에서 cmd 명령어를 실행 |\n",
    "| output = !cmd args | cmd 명령어를 실행하고 표준 출력 결과를 output에 저장 |\n",
    "| %alias alias_name cmd | 시스템(쉘) 명령어에 대한 별칭을 정의 |\n",
    "| %bookmark | IPython의 디렉토리 북마트 시스템을 활용 | \n",
    "| %cd directory | 디렉토리를 변경 | \n",
    "| %pwd | 현재 작업 디렉토리를 보여줌 | \n",
    "| %pushd directory | 현재 디렉토리를 스택에 추가하고 새로운 디렉토리로 이동 | \n",
    "| %popd | 스택에 저장된 디렉토리를 꺼내서 그 디렉토리로 이동 | \n",
    "| %dirs | 현재 디렉토리 스택에 저장된 디렉토리 목록을 보여줌 | \n",
    "| %dhist | 접근했던 디렉토리 히스토리를 출력 |\n",
    "| %env | 시스템 환경 변수를 사전 타입으로 출력 |\n"
   ]
  },
  {
   "cell_type": "code",
   "execution_count": null,
   "metadata": {
    "collapsed": true
   },
   "outputs": [],
   "source": [
    "!cmd"
   ]
  },
  {
   "cell_type": "code",
   "execution_count": 11,
   "metadata": {},
   "outputs": [
    {
     "name": "stdout",
     "output_type": "stream",
     "text": [
      "> \u001b[1;32m<ipython-input-10-5b2715401fd9>\u001b[0m(2)\u001b[0;36m<module>\u001b[1;34m()\u001b[0m\n",
      "\u001b[1;32m      1 \u001b[1;33m\u001b[1;32mfrom\u001b[0m \u001b[0mnumpy\u001b[0m\u001b[1;33m.\u001b[0m\u001b[0mrandom\u001b[0m \u001b[1;32mimport\u001b[0m \u001b[0mrandn\u001b[0m \u001b[1;31m#randn오류 수정\u001b[0m\u001b[1;33m\u001b[0m\u001b[0m\n",
      "\u001b[0m\u001b[1;32m----> 2 \u001b[1;33m\u001b[0mplt\u001b[0m\u001b[1;33m.\u001b[0m\u001b[0mplot\u001b[0m\u001b[1;33m(\u001b[0m\u001b[0mrandn\u001b[0m\u001b[1;33m(\u001b[0m\u001b[1;36m1000\u001b[0m\u001b[1;33m)\u001b[0m\u001b[1;33m.\u001b[0m\u001b[0mcumsum\u001b[0m\u001b[1;33m(\u001b[0m\u001b[1;33m)\u001b[0m\u001b[1;33m)\u001b[0m \u001b[1;31m#plot오류 수정\u001b[0m\u001b[1;33m\u001b[0m\u001b[0m\n",
      "\u001b[0m\u001b[1;32m      3 \u001b[1;33m\u001b[0mplt\u001b[0m\u001b[1;33m.\u001b[0m\u001b[0mshow\u001b[0m\u001b[1;33m(\u001b[0m\u001b[1;33m)\u001b[0m \u001b[1;31m#추가\u001b[0m\u001b[1;33m\u001b[0m\u001b[0m\n",
      "\u001b[0m\n",
      "ipdb> d\n",
      "*** Newest frame\n",
      "ipdb> q\n"
     ]
    }
   ],
   "source": [
    "%debug"
   ]
  },
  {
   "cell_type": "code",
   "execution_count": null,
   "metadata": {},
   "outputs": [],
   "source": []
  }
 ],
 "metadata": {
  "kernelspec": {
   "display_name": "Python 3",
   "language": "python",
   "name": "python3"
  },
  "language_info": {
   "codemirror_mode": {
    "name": "ipython",
    "version": 3
   },
   "file_extension": ".py",
   "mimetype": "text/x-python",
   "name": "python",
   "nbconvert_exporter": "python",
   "pygments_lexer": "ipython3",
   "version": "3.6.4"
  }
 },
 "nbformat": 4,
 "nbformat_minor": 2
}
