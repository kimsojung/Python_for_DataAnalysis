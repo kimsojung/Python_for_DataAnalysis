{
 "cells": [
  {
   "cell_type": "code",
   "execution_count": null,
   "metadata": {
    "collapsed": true
   },
   "outputs": [],
   "source": [
    "# for 루프"
   ]
  },
  {
   "cell_type": "code",
   "execution_count": 1,
   "metadata": {},
   "outputs": [
    {
     "name": "stdout",
     "output_type": "stream",
     "text": [
      "['GOT', 'NARCOS', 'VICE']\n"
     ]
    }
   ],
   "source": [
    "tv = [\"GOT\",\n",
    "     \"Narcos\",\n",
    "     \"Vice\"]\n",
    "i = 0\n",
    "for show in tv:\n",
    "    new = tv[i]\n",
    "    new = new.upper()\n",
    "    tv[i] = new\n",
    "    i += 1\n",
    "\n",
    "\n",
    "print(tv)"
   ]
  },
  {
   "cell_type": "code",
   "execution_count": 2,
   "metadata": {},
   "outputs": [
    {
     "name": "stdout",
     "output_type": "stream",
     "text": [
      "['GOT', 'NARCOS', 'VICE']\n"
     ]
    }
   ],
   "source": [
    "tv = [\"GOT\", \"Narcos\",\n",
    "      \"Vice\"]\n",
    "for i, show in enumerate(tv):\n",
    "    new = tv[i]\n",
    "    new = new.upper()\n",
    "    tv[i] = new\n",
    "\n",
    "\n",
    "print(tv)"
   ]
  },
  {
   "cell_type": "code",
   "execution_count": 3,
   "metadata": {},
   "outputs": [
    {
     "name": "stdout",
     "output_type": "stream",
     "text": [
      "['GOT', 'NARCOS', 'VICE', 'ARRESTED DEVELOPMENT', 'FRIENDS', 'ALWAYS SUNNY']\n"
     ]
    }
   ],
   "source": [
    "tv = [\"GOT\", \"Narcos\",\n",
    "      \"Vice\"]\n",
    "coms = [\"Arrested Development\",\n",
    "        \"friends\",\n",
    "        \"Always Sunny\"]\n",
    "all_shows = []\n",
    "\n",
    "\n",
    "for show in tv:\n",
    "    show = show.upper()\n",
    "    all_shows.append(show)\n",
    "\n",
    "\n",
    "for show in coms:\n",
    "    show = show.upper()\n",
    "    all_shows.append(show)\n",
    "\n",
    "\n",
    "print(all_shows)"
   ]
  },
  {
   "cell_type": "code",
   "execution_count": 6,
   "metadata": {},
   "outputs": [
    {
     "name": "stdout",
     "output_type": "stream",
     "text": [
      "[['GOT', 'Narcos', 'Vice'], ['Arrested Development', 'friends', 'Always Sunny']]\n"
     ]
    }
   ],
   "source": [
    "tv = [\"GOT\", \"Narcos\",\n",
    "      \"Vice\"]\n",
    "coms = [\"Arrested Development\",\n",
    "        \"friends\",\n",
    "        \"Always Sunny\"]\n",
    "all_shows1= []\n",
    "\n",
    "all_shows1.append(tv)\n",
    "\n",
    "all_shows1.append(coms)\n",
    "\n",
    "print(all_shows1)"
   ]
  },
  {
   "cell_type": "markdown",
   "metadata": {},
   "source": [
    "# Break"
   ]
  },
  {
   "cell_type": "code",
   "execution_count": null,
   "metadata": {
    "collapsed": true
   },
   "outputs": [],
   "source": [
    "qs = [\"What is your name?\",\n",
    "      \"What is your fav. color?\",\n",
    "      \"What is your quest?\"]\n",
    "n = 0\n",
    "while True:\n",
    "    print(\"Type q to quit\")\n",
    "    a = input(qs[n])\n",
    "    if a == \"q\":\n",
    "        break\n",
    "    n = (n + 1) % 3"
   ]
  },
  {
   "cell_type": "markdown",
   "metadata": {},
   "source": [
    "# Continue"
   ]
  },
  {
   "cell_type": "code",
   "execution_count": null,
   "metadata": {
    "collapsed": true
   },
   "outputs": [],
   "source": [
    "for i in range(1, 6):\n",
    "    if i == 3:\n",
    "        continue\n",
    "    print(i)  ##while로 표현 해보기 "
   ]
  },
  {
   "cell_type": "code",
   "execution_count": null,
   "metadata": {
    "collapsed": true
   },
   "outputs": [],
   "source": [
    "# Nested Loops"
   ]
  },
  {
   "cell_type": "code",
   "execution_count": 8,
   "metadata": {},
   "outputs": [
    {
     "name": "stdout",
     "output_type": "stream",
     "text": [
      "[6, 7, 8, 9, 7, 8, 9, 10, 8, 9, 10, 11, 9, 10, 11, 12]\n"
     ]
    }
   ],
   "source": [
    "list1 = [1, 2, 3, 4]\n",
    "list2 = [5, 6, 7, 8]\n",
    "added = []\n",
    "for i in list1:\n",
    "    for j in list2:\n",
    "        added.append(i + j)\n",
    "\n",
    "\n",
    "print(added)"
   ]
  }
 ],
 "metadata": {
  "kernelspec": {
   "display_name": "Python 3",
   "language": "python",
   "name": "python3"
  },
  "language_info": {
   "codemirror_mode": {
    "name": "ipython",
    "version": 3
   },
   "file_extension": ".py",
   "mimetype": "text/x-python",
   "name": "python",
   "nbconvert_exporter": "python",
   "pygments_lexer": "ipython3",
   "version": "3.6.4"
  }
 },
 "nbformat": 4,
 "nbformat_minor": 2
}
